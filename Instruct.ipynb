{
  "cells": [
    {
      "cell_type": "markdown",
      "metadata": {
        "id": "view-in-github",
        "colab_type": "text"
      },
      "source": [
        "<a href=\"https://colab.research.google.com/github/ronalds82/Datu-kopas-tulkosana/blob/main/Instruct.ipynb\" target=\"_parent\"><img src=\"https://colab.research.google.com/assets/colab-badge.svg\" alt=\"Open In Colab\"/></a>"
      ]
    },
    {
      "cell_type": "markdown",
      "metadata": {
        "id": "BDb3P--Qm0Fn"
      },
      "source": [
        "Autors: *Ronalds Turnis, rt20018*\n",
        "===========================\n"
      ]
    },
    {
      "cell_type": "markdown",
      "source": [
        "# Globālie mainīgie"
      ],
      "metadata": {
        "id": "AEDGkRgwVNkV"
      }
    },
    {
      "cell_type": "code",
      "source": [
        "INSTALL = False # True, ja videi ir nepieciešamas papildus instalācijas\n",
        "TRAIN = True  # True, ja modelim ir nepieciešama satura regulēšana\n",
        "FINE_TUNED = False # True, ja testējam pašu saglabātu modeli\n",
        "CHAT = True # True, ja vēlamies ieslēgt tērzētavu ar modeli\n",
        "\n",
        "weights_dir = './weights' # Tiek glabāti modeļa svari\n",
        "logs_dir = './logs' # Tiek glabāta notikumu informācija\n",
        "tmp_dir = './tmp_trainer' # Glabājās pagaidu informācija\n",
        "\n",
        "# Jānorāda, ja vēlamies veikt pašu saglabāta modeļa novērtēšanu\n",
        "model_link = 'https://www.dropbox.com/scl/fi/cguiqykr0jlp1yj6mi7rm/modelis.pth?rlkey=m7oeyaev1pt0x1c5u2kdnl0bu&dl=0'\n",
        "model_weight_file = 'modelis.pth?rlkey=m7oeyaev1pt0x1c5u2kdnl0bu'\n",
        "\n",
        "data_files = {'train': 'instruct-train-EN.json', 'validation': 'instruct-validate.json'}"
      ],
      "metadata": {
        "id": "4uqoL3rjVPF3"
      },
      "execution_count": 1,
      "outputs": []
    },
    {
      "cell_type": "markdown",
      "metadata": {
        "id": "1BhXjCQDy2wU"
      },
      "source": [
        "# Moduļu importēšana"
      ]
    },
    {
      "cell_type": "code",
      "execution_count": 2,
      "metadata": {
        "id": "OePrTPIty3It"
      },
      "outputs": [],
      "source": [
        "# Ja ir nepieciešamas papildus instalācijas\n",
        "if INSTALL:\n",
        "    !pip install datasets\n",
        "    !pip install ipyfilechooser\n",
        "    !pip install transformers[torch] -U\n",
        "    !pip install accelerate -U\n",
        "    !pip install rouge_score\n",
        "    !pip install evaluate\n",
        "\n",
        "# Importējam nepieciešamos moduļus\n",
        "import torch\n",
        "import matplotlib.pyplot as plt\n",
        "import shutil\n",
        "import os\n",
        "import json\n",
        "from transformers import Trainer, TrainingArguments, IntervalStrategy\n",
        "from transformers import default_data_collator, AutoTokenizer, AutoModelForCausalLM, trainer_utils\n",
        "import evaluate\n",
        "from torch.utils.data import Dataset"
      ]
    },
    {
      "cell_type": "markdown",
      "source": [
        "# Modeļa un tokenizera inicializācija"
      ],
      "metadata": {
        "id": "EaBULUuZ9oXm"
      }
    },
    {
      "cell_type": "code",
      "source": [
        "print(\"Ielādējam modeli un tokenizeru...\")\n",
        "\n",
        "tokenizer = AutoTokenizer.from_pretrained('gpt2')\n",
        "model = AutoModelForCausalLM.from_pretrained('gpt2')\n",
        "\n",
        "# Iestatām padding tokenu, ja tā nav\n",
        "if tokenizer.pad_token is None:\n",
        "    tokenizer.pad_token = tokenizer.eos_token\n",
        "\n",
        "# Pārbaudām CUDA pieejamību un uzstādām modeli uz atbilstošās ierīces\n",
        "device = torch.device(\"cuda\" if torch.cuda.is_available() else \"cpu\")\n",
        "model.to(device)\n",
        "\n",
        "print(\"Modelis un tokenizeris inicializēts!\")\n",
        "print(\"Izmantotā ierīce:\", device)"
      ],
      "metadata": {
        "colab": {
          "base_uri": "https://localhost:8080/"
        },
        "id": "Wd5GcD3b9qcS",
        "outputId": "0e33e9bd-21a3-4f6b-b983-42731974d83e"
      },
      "execution_count": 3,
      "outputs": [
        {
          "output_type": "stream",
          "name": "stdout",
          "text": [
            "Ielādējam modeli un tokenizeru...\n"
          ]
        },
        {
          "output_type": "stream",
          "name": "stderr",
          "text": [
            "/usr/local/lib/python3.10/dist-packages/huggingface_hub/utils/_token.py:89: UserWarning: \n",
            "The secret `HF_TOKEN` does not exist in your Colab secrets.\n",
            "To authenticate with the Hugging Face Hub, create a token in your settings tab (https://huggingface.co/settings/tokens), set it as secret in your Google Colab and restart your session.\n",
            "You will be able to reuse this secret in all of your notebooks.\n",
            "Please note that authentication is recommended but still optional to access public models or datasets.\n",
            "  warnings.warn(\n"
          ]
        },
        {
          "output_type": "stream",
          "name": "stdout",
          "text": [
            "Modelis un tokenizeris inicializēts!\n",
            "Izmantotā ierīce: cuda\n"
          ]
        }
      ]
    },
    {
      "cell_type": "markdown",
      "metadata": {
        "id": "9Bt7HD0skeyZ"
      },
      "source": [
        "# Datņu ielādēšana"
      ]
    },
    {
      "cell_type": "code",
      "source": [
        "def load_data(file_name):\n",
        "    try:\n",
        "        with open(file_name, 'r', encoding='utf-8') as file:\n",
        "            data = json.load(file)\n",
        "        return data\n",
        "    except FileNotFoundError:\n",
        "        print(f\"Fails {file_name} nav atrasts!\")\n",
        "        return []\n",
        "\n",
        "train_data = load_data(data_files['train'])\n",
        "val_data = load_data(data_files['validation'])"
      ],
      "metadata": {
        "id": "4taarShiMLvL"
      },
      "execution_count": 4,
      "outputs": []
    },
    {
      "cell_type": "markdown",
      "source": [
        "# Iepriekšējo datu dzēšana"
      ],
      "metadata": {
        "id": "BOrjb0UYXZsz"
      }
    },
    {
      "cell_type": "code",
      "source": [
        "# Pārbaudām vai eksistē ģenerētās direktorijas un dzēšam tās pirms modeļa trenēšanas, lai nekonfliktētu ar vecajiem datiem\n",
        "def delete_directory(dir_path):\n",
        "    try:\n",
        "        if os.path.exists(dir_path):\n",
        "            shutil.rmtree(dir_path)\n",
        "            print(f\"Direktorija dzēsta: {dir_path}\")\n",
        "        else:\n",
        "            print(f\"Direktorija neeksistē: {dir_path}\")\n",
        "    except Exception as e:\n",
        "        print(f\"Kļūda dzēšot direktoriju: {e}\")\n",
        "\n",
        "delete_directory(weights_dir)\n",
        "delete_directory(logs_dir)\n",
        "delete_directory(tmp_dir)\n",
        "\n",
        "# Izdzēšam GPU kešatmiņu\n",
        "torch.cuda.empty_cache()"
      ],
      "metadata": {
        "colab": {
          "base_uri": "https://localhost:8080/"
        },
        "id": "DfkYYPRvXb8G",
        "outputId": "effc9c7b-9328-415c-90e9-891606066603"
      },
      "execution_count": 5,
      "outputs": [
        {
          "output_type": "stream",
          "name": "stdout",
          "text": [
            "Direktorija dzēsta: ./weights\n",
            "Direktorija neeksistē: ./logs\n",
            "Direktorija neeksistē: ./tmp_trainer\n"
          ]
        }
      ]
    },
    {
      "cell_type": "markdown",
      "metadata": {
        "id": "eirsvXFakQcV"
      },
      "source": [
        "# Datu inicializācija"
      ]
    },
    {
      "cell_type": "code",
      "execution_count": 6,
      "metadata": {
        "id": "DU1BJRZ_kWif",
        "colab": {
          "base_uri": "https://localhost:8080/"
        },
        "outputId": "5284f853-e2c0-41e2-9040-aedcf8bda139"
      },
      "outputs": [
        {
          "output_type": "stream",
          "name": "stdout",
          "text": [
            "Apmācības datu kopas izmērs: 15\n",
            "Validācijas datu kopas izmērs: 15\n"
          ]
        }
      ],
      "source": [
        "# Klase instrukciju datu kopas ielasīšanai\n",
        "class InstructDataset(Dataset):\n",
        "    def __init__(self, encodings):\n",
        "        self.encodings = encodings\n",
        "        self.encodings['labels'] = self.encodings['input_ids'].detach().clone()\n",
        "\n",
        "    def __len__(self):\n",
        "        return len(self.encodings.input_ids)\n",
        "\n",
        "    def __getitem__(self, idx):\n",
        "        return {key: self.encodings[key][idx].clone().detach() for key in self.encodings}\n",
        "\n",
        "def prepare_instruct_datasets(train_data, val_data):\n",
        "    # Pārveidojam tekstu par string sarakstu\n",
        "    train_texts = [f\"{item['instruction']} {item['input']}\" for item in train_data['train']]\n",
        "    val_texts = [f\"{item['instruction']} {item['input']}\" for item in val_data['validation']]\n",
        "\n",
        "    train_outputs = [item['output'] for item in train_data['train']]\n",
        "    val_outputs = [item['output'] for item in val_data['validation']]\n",
        "\n",
        "    train_encodings = tokenizer(train_texts, truncation=True, padding='max_length', max_length=512, return_tensors=\"pt\")\n",
        "    val_encodings = tokenizer(val_texts, truncation=True, padding='max_length', max_length=512, return_tensors=\"pt\")\n",
        "\n",
        "    train_labels = tokenizer(train_outputs, truncation=True, padding='max_length', max_length=512, return_tensors=\"pt\").input_ids\n",
        "    val_labels = tokenizer(val_outputs, truncation=True, padding='max_length', max_length=512, return_tensors=\"pt\").input_ids\n",
        "\n",
        "    # Mask padding tokens in labels\n",
        "    train_labels[train_labels == tokenizer.pad_token_id] = -100\n",
        "    val_labels[val_labels == tokenizer.pad_token_id] = -100\n",
        "\n",
        "    train_encodings['labels'] = train_labels\n",
        "    val_encodings['labels'] = val_labels\n",
        "\n",
        "    # Izveidojam dataset objektus\n",
        "    train_dataset = InstructDataset(train_encodings)\n",
        "    val_dataset = InstructDataset(val_encodings)\n",
        "\n",
        "    return train_dataset, val_dataset\n",
        "\n",
        "train_dataset, val_dataset = prepare_instruct_datasets(train_data, val_data)\n",
        "\n",
        "print(f\"Apmācības datu kopas izmērs: {len(train_dataset)}\")\n",
        "print(f\"Validācijas datu kopas izmērs: {len(val_dataset)}\")"
      ]
    },
    {
      "cell_type": "markdown",
      "source": [
        "# Metriku aprēķināšanas funkcijas"
      ],
      "metadata": {
        "id": "Qzy9BxyZxkqT"
      }
    },
    {
      "cell_type": "code",
      "source": [
        "# Metriku vēsture\n",
        "metrics_history = []\n",
        "metrics = {}\n",
        "\n",
        "# Definējam izmantotās metrikas\n",
        "metrics = {\n",
        "    'bleu': evaluate.load('bleu'),\n",
        "    'rouge': evaluate.load('rouge'),\n",
        "    'meteor': evaluate.load('meteor')\n",
        "}\n",
        "\n",
        "def compute_metrics(pred: trainer_utils.EvalPrediction) -> dict:\n",
        "    predictions = pred.predictions[0] if isinstance(pred.predictions, tuple) else pred.predictions\n",
        "    label_ids = pred.label_ids\n",
        "\n",
        "    decoded_predictions = tokenizer.batch_decode(predictions, skip_special_tokens=True)\n",
        "    label_ids[label_ids == -100] = tokenizer.pad_token_id\n",
        "    decoded_labels = tokenizer.batch_decode(label_ids, skip_special_tokens=True)\n",
        "\n",
        "    # Aprēķinām metriku rezultātus\n",
        "    metric_results = {\n",
        "      'bleu': metrics['bleu'].compute(predictions=decoded_predictions, references=decoded_labels)['bleu'],\n",
        "      'rougeL': metrics['rouge'].compute(predictions=decoded_predictions, references=decoded_labels)['rougeL'],\n",
        "      'meteor': metrics['meteor'].compute(predictions=decoded_predictions, references=decoded_labels)['meteor']\n",
        "    }\n",
        "\n",
        "    metrics_history.append(metric_results)\n",
        "\n",
        "    return metric_results\n",
        "\n",
        "# Funkcija, lai izvairītos no atmiņas problēmām\n",
        "def preprocess_logits_for_metrics(logits, labels):\n",
        "    pred_ids = torch.argmax(logits, dim=-1)\n",
        "    return pred_ids, labels"
      ],
      "metadata": {
        "id": "sR79WpeQxmo2",
        "colab": {
          "base_uri": "https://localhost:8080/"
        },
        "outputId": "c3eb3cab-a4cc-4f4b-ad8d-e59e46417c63"
      },
      "execution_count": 7,
      "outputs": [
        {
          "output_type": "stream",
          "name": "stderr",
          "text": [
            "[nltk_data] Downloading package wordnet to /root/nltk_data...\n",
            "[nltk_data]   Package wordnet is already up-to-date!\n",
            "[nltk_data] Downloading package punkt to /root/nltk_data...\n",
            "[nltk_data]   Package punkt is already up-to-date!\n",
            "[nltk_data] Downloading package omw-1.4 to /root/nltk_data...\n",
            "[nltk_data]   Package omw-1.4 is already up-to-date!\n"
          ]
        }
      ]
    },
    {
      "cell_type": "markdown",
      "metadata": {
        "id": "fOqilKGjwrKN"
      },
      "source": [
        "# Modeļa trenēšana"
      ]
    },
    {
      "cell_type": "code",
      "execution_count": 8,
      "metadata": {
        "id": "KkdpMGM1wtq5",
        "colab": {
          "base_uri": "https://localhost:8080/",
          "height": 859
        },
        "outputId": "745d224f-6e81-4db5-caec-1fa09ebaaa63"
      },
      "outputs": [
        {
          "output_type": "display_data",
          "data": {
            "text/plain": [
              "<IPython.core.display.HTML object>"
            ],
            "text/html": [
              "\n",
              "    <div>\n",
              "      \n",
              "      <progress value='100' max='100' style='width:300px; height:20px; vertical-align: middle;'></progress>\n",
              "      [100/100 01:58, Epoch 25/25]\n",
              "    </div>\n",
              "    <table border=\"1\" class=\"dataframe\">\n",
              "  <thead>\n",
              " <tr style=\"text-align: left;\">\n",
              "      <th>Step</th>\n",
              "      <th>Training Loss</th>\n",
              "      <th>Validation Loss</th>\n",
              "      <th>Bleu</th>\n",
              "      <th>Rougel</th>\n",
              "      <th>Meteor</th>\n",
              "    </tr>\n",
              "  </thead>\n",
              "  <tbody>\n",
              "    <tr>\n",
              "      <td>4</td>\n",
              "      <td>9.711000</td>\n",
              "      <td>8.137430</td>\n",
              "      <td>0.000000</td>\n",
              "      <td>0.073544</td>\n",
              "      <td>0.041672</td>\n",
              "    </tr>\n",
              "    <tr>\n",
              "      <td>8</td>\n",
              "      <td>9.046800</td>\n",
              "      <td>7.143425</td>\n",
              "      <td>0.000000</td>\n",
              "      <td>0.074079</td>\n",
              "      <td>0.038115</td>\n",
              "    </tr>\n",
              "    <tr>\n",
              "      <td>12</td>\n",
              "      <td>7.787000</td>\n",
              "      <td>6.028696</td>\n",
              "      <td>0.000000</td>\n",
              "      <td>0.081984</td>\n",
              "      <td>0.038528</td>\n",
              "    </tr>\n",
              "    <tr>\n",
              "      <td>16</td>\n",
              "      <td>5.961400</td>\n",
              "      <td>5.323801</td>\n",
              "      <td>0.000000</td>\n",
              "      <td>0.083710</td>\n",
              "      <td>0.039095</td>\n",
              "    </tr>\n",
              "    <tr>\n",
              "      <td>20</td>\n",
              "      <td>4.099900</td>\n",
              "      <td>4.022624</td>\n",
              "      <td>0.000000</td>\n",
              "      <td>0.085445</td>\n",
              "      <td>0.043028</td>\n",
              "    </tr>\n",
              "    <tr>\n",
              "      <td>24</td>\n",
              "      <td>2.047600</td>\n",
              "      <td>2.342650</td>\n",
              "      <td>0.000000</td>\n",
              "      <td>0.079088</td>\n",
              "      <td>0.069977</td>\n",
              "    </tr>\n",
              "    <tr>\n",
              "      <td>28</td>\n",
              "      <td>0.663600</td>\n",
              "      <td>1.126603</td>\n",
              "      <td>0.000000</td>\n",
              "      <td>0.078706</td>\n",
              "      <td>0.074031</td>\n",
              "    </tr>\n",
              "    <tr>\n",
              "      <td>32</td>\n",
              "      <td>0.215900</td>\n",
              "      <td>0.585687</td>\n",
              "      <td>0.000000</td>\n",
              "      <td>0.073083</td>\n",
              "      <td>0.075441</td>\n",
              "    </tr>\n",
              "    <tr>\n",
              "      <td>36</td>\n",
              "      <td>0.150000</td>\n",
              "      <td>0.462800</td>\n",
              "      <td>0.000000</td>\n",
              "      <td>0.067112</td>\n",
              "      <td>0.064836</td>\n",
              "    </tr>\n",
              "    <tr>\n",
              "      <td>40</td>\n",
              "      <td>0.109500</td>\n",
              "      <td>0.440447</td>\n",
              "      <td>0.000000</td>\n",
              "      <td>0.067442</td>\n",
              "      <td>0.058172</td>\n",
              "    </tr>\n",
              "    <tr>\n",
              "      <td>44</td>\n",
              "      <td>0.088900</td>\n",
              "      <td>0.420121</td>\n",
              "      <td>0.000000</td>\n",
              "      <td>0.073703</td>\n",
              "      <td>0.061347</td>\n",
              "    </tr>\n",
              "    <tr>\n",
              "      <td>48</td>\n",
              "      <td>0.075400</td>\n",
              "      <td>0.408063</td>\n",
              "      <td>0.000000</td>\n",
              "      <td>0.068873</td>\n",
              "      <td>0.061275</td>\n",
              "    </tr>\n",
              "    <tr>\n",
              "      <td>52</td>\n",
              "      <td>0.061900</td>\n",
              "      <td>0.404051</td>\n",
              "      <td>0.000000</td>\n",
              "      <td>0.069858</td>\n",
              "      <td>0.061025</td>\n",
              "    </tr>\n",
              "    <tr>\n",
              "      <td>56</td>\n",
              "      <td>0.049300</td>\n",
              "      <td>0.403074</td>\n",
              "      <td>0.000000</td>\n",
              "      <td>0.065291</td>\n",
              "      <td>0.061028</td>\n",
              "    </tr>\n",
              "    <tr>\n",
              "      <td>60</td>\n",
              "      <td>0.042300</td>\n",
              "      <td>0.403795</td>\n",
              "      <td>0.000000</td>\n",
              "      <td>0.066501</td>\n",
              "      <td>0.056401</td>\n",
              "    </tr>\n",
              "    <tr>\n",
              "      <td>64</td>\n",
              "      <td>0.032700</td>\n",
              "      <td>0.405470</td>\n",
              "      <td>0.000000</td>\n",
              "      <td>0.061254</td>\n",
              "      <td>0.049095</td>\n",
              "    </tr>\n",
              "    <tr>\n",
              "      <td>68</td>\n",
              "      <td>0.032300</td>\n",
              "      <td>0.407535</td>\n",
              "      <td>0.000000</td>\n",
              "      <td>0.056446</td>\n",
              "      <td>0.045642</td>\n",
              "    </tr>\n",
              "    <tr>\n",
              "      <td>72</td>\n",
              "      <td>0.022800</td>\n",
              "      <td>0.409673</td>\n",
              "      <td>0.000000</td>\n",
              "      <td>0.056063</td>\n",
              "      <td>0.045534</td>\n",
              "    </tr>\n",
              "    <tr>\n",
              "      <td>76</td>\n",
              "      <td>0.019800</td>\n",
              "      <td>0.411134</td>\n",
              "      <td>0.000000</td>\n",
              "      <td>0.047792</td>\n",
              "      <td>0.045534</td>\n",
              "    </tr>\n",
              "    <tr>\n",
              "      <td>80</td>\n",
              "      <td>0.019700</td>\n",
              "      <td>0.412845</td>\n",
              "      <td>0.000000</td>\n",
              "      <td>0.049214</td>\n",
              "      <td>0.045652</td>\n",
              "    </tr>\n",
              "    <tr>\n",
              "      <td>84</td>\n",
              "      <td>0.015600</td>\n",
              "      <td>0.414842</td>\n",
              "      <td>0.000000</td>\n",
              "      <td>0.049214</td>\n",
              "      <td>0.045570</td>\n",
              "    </tr>\n",
              "    <tr>\n",
              "      <td>88</td>\n",
              "      <td>0.013000</td>\n",
              "      <td>0.417327</td>\n",
              "      <td>0.000000</td>\n",
              "      <td>0.049214</td>\n",
              "      <td>0.045488</td>\n",
              "    </tr>\n",
              "    <tr>\n",
              "      <td>92</td>\n",
              "      <td>0.010200</td>\n",
              "      <td>0.419492</td>\n",
              "      <td>0.000000</td>\n",
              "      <td>0.049766</td>\n",
              "      <td>0.041825</td>\n",
              "    </tr>\n",
              "    <tr>\n",
              "      <td>96</td>\n",
              "      <td>0.011200</td>\n",
              "      <td>0.421080</td>\n",
              "      <td>0.000000</td>\n",
              "      <td>0.050413</td>\n",
              "      <td>0.038650</td>\n",
              "    </tr>\n",
              "    <tr>\n",
              "      <td>100</td>\n",
              "      <td>0.013600</td>\n",
              "      <td>0.421737</td>\n",
              "      <td>0.000000</td>\n",
              "      <td>0.059220</td>\n",
              "      <td>0.038650</td>\n",
              "    </tr>\n",
              "  </tbody>\n",
              "</table><p>"
            ]
          },
          "metadata": {}
        }
      ],
      "source": [
        "def train_model(model, train_dataset, val_dataset, output_dir):\n",
        "    # Konfigurējam apmācības parametrus\n",
        "    training_args = TrainingArguments(\n",
        "        output_dir=output_dir,\n",
        "        num_train_epochs=25,\n",
        "        per_device_train_batch_size=4,\n",
        "        per_device_eval_batch_size=4,\n",
        "        eval_strategy=IntervalStrategy.STEPS,\n",
        "        eval_steps=4,\n",
        "        warmup_steps=100,\n",
        "        weight_decay=0.01,\n",
        "        learning_rate=5e-5,\n",
        "        logging_dir=logs_dir,\n",
        "        logging_steps=4,\n",
        "        save_strategy=IntervalStrategy.EPOCH,\n",
        "        report_to=\"none\"\n",
        "    )\n",
        "\n",
        "    # Inicializējam traineri\n",
        "    trainer = Trainer(\n",
        "        model=model,\n",
        "        args=training_args,\n",
        "        train_dataset=train_dataset,\n",
        "        eval_dataset=val_dataset,\n",
        "        compute_metrics=compute_metrics,\n",
        "        preprocess_logits_for_metrics=preprocess_logits_for_metrics,\n",
        "        data_collator=default_data_collator\n",
        "    )\n",
        "\n",
        "    # Trenējam modeli\n",
        "    trainer.train()\n",
        "    return trainer\n",
        "\n",
        "if TRAIN:\n",
        "    trainer = train_model(model, train_dataset, val_dataset, weights_dir)\n",
        "else:\n",
        "    # Inicializējam traineri validācijas dēļ\n",
        "    trainer = Trainer(\n",
        "        model=model,\n",
        "        eval_dataset=val_dataset,\n",
        "        compute_metrics=compute_metrics,\n",
        "        preprocess_logits_for_metrics=preprocess_logits_for_metrics,\n",
        "        data_collator=default_data_collator\n",
        "    )"
      ]
    },
    {
      "cell_type": "markdown",
      "source": [
        "# Apmācīta modeļa analīze"
      ],
      "metadata": {
        "id": "7XOyWNkL96iG"
      }
    },
    {
      "cell_type": "code",
      "source": [
        "def plot_results(training_history):\n",
        "    # Definējam sarakstus uzskaitei\n",
        "    steps = []\n",
        "    training_losses = []\n",
        "    validation_losses = []\n",
        "\n",
        "    # Ejam cauri katram ierakstam vēsturē\n",
        "    for entry in training_history:\n",
        "        if 'loss' in entry:  # Apmācības zaudējums\n",
        "            steps.append(entry.get('step', len(steps) + 1))\n",
        "            training_losses.append(entry['loss'])\n",
        "\n",
        "        if 'eval_loss' in entry:  # Validācijas zaudējums\n",
        "            validation_losses.append(entry['eval_loss'])\n",
        "\n",
        "    # Izveidojam grafiku\n",
        "    plt.figure(figsize=(12, 6))\n",
        "\n",
        "    if training_losses:\n",
        "        plt.plot(steps[:len(training_losses)], training_losses, label='Apmācības zaudējums', marker='o')\n",
        "\n",
        "    if validation_losses:\n",
        "        validation_steps = steps[:len(validation_losses)]\n",
        "        plt.plot(validation_steps, validation_losses, label='Validācijas zaudējums', marker='x', linestyle='--')\n",
        "\n",
        "    plt.xlabel('Soļu skaits')\n",
        "    plt.ylabel('Zaudējums')\n",
        "    plt.title('Apmācības un validācijas zaudējums apmācības laikā')\n",
        "    plt.legend()\n",
        "    plt.grid(True)\n",
        "    plt.show()\n",
        "\n",
        "def plot_metrics_history(metrics_history):\n",
        "    epochs = list(range(1, len(metrics_history)+1))\n",
        "    plt.figure(figsize=(12, 8))\n",
        "\n",
        "    # Sagatavojam datus parādīšanai grafikā\n",
        "    bleu_scores = [x['bleu'] for x in metrics_history]\n",
        "    rouge_scores = [x['rougeL'] for x in metrics_history]\n",
        "    meteor_scores = [x['meteor'] for x in metrics_history]\n",
        "\n",
        "    plt.plot(epochs, bleu_scores, label='BLEU', marker='o')\n",
        "    plt.plot(epochs, rouge_scores, label='ROUGE-L', marker='o')\n",
        "    plt.plot(epochs, meteor_scores, label='METEOR', marker='o')\n",
        "\n",
        "    plt.xlabel('Iterācija')\n",
        "    plt.ylabel('Rezultāts')\n",
        "    plt.title('Vērtēšanas metriku rezultāti atkarībā no iterācijas')\n",
        "    plt.legend()\n",
        "    plt.grid(True)\n",
        "    plt.show()\n",
        "\n",
        "# Izpildām tikai, ja ir notikusi modeļa pielāgošana, citādi tas tiks darīts \"Saglabātā modeļa izmantošana\" sadaļā\n",
        "if TRAIN:\n",
        "    plot_results(trainer.state.log_history)\n",
        "    print()\n",
        "    plot_metrics_history(metrics_history)"
      ],
      "metadata": {
        "id": "FC_4BSQz-AbX",
        "colab": {
          "base_uri": "https://localhost:8080/",
          "height": 1000
        },
        "outputId": "67f5f15f-1b3d-4e95-a5de-0228c9a83eeb"
      },
      "execution_count": 9,
      "outputs": [
        {
          "output_type": "display_data",
          "data": {
            "text/plain": [
              "<Figure size 1200x600 with 1 Axes>"
            ],
            "image/png": "[encoded data removed]"
          },
          "metadata": {}
        },
        {
          "output_type": "stream",
          "name": "stdout",
          "text": [
            "\n"
          ]
        },
        {
          "output_type": "display_data",
          "data": {
            "text/plain": [
              "<Figure size 1200x800 with 1 Axes>"
            ],
            "image/png": "[encoded data removed]"
          },
          "metadata": {}
        }
      ]
    },
    {
      "cell_type": "markdown",
      "source": [
        "# Čatbota interfeiss"
      ],
      "metadata": {
        "id": "-YGopo-Qdn6-"
      }
    },
    {
      "cell_type": "code",
      "source": [
        "def generate_text(model, tokenizer, input_text, max_length=150):\n",
        "    # Tokenizējam ievadīto tekstu\n",
        "    input_ids = tokenizer.encode(input_text, return_tensors='pt').to(model.device)\n",
        "\n",
        "    # Modelis ģenerē tekstu\n",
        "    output = model.generate(\n",
        "        input_ids,\n",
        "        max_length=max_length + len(input_ids[0]),\n",
        "        num_return_sequences=1,\n",
        "        no_repeat_ngram_size=2,\n",
        "        temperature=0.9,\n",
        "        top_k=50,\n",
        "        top_p=0.95,\n",
        "        pad_token_id=tokenizer.eos_token_id,\n",
        "        do_sample=True\n",
        "    )\n",
        "\n",
        "    # Dekodējam tekstu un atgriežam to\n",
        "    generated_text = tokenizer.decode(output[0], skip_special_tokens=True)\n",
        "    return generated_text\n",
        "\n",
        "def chat_with_model(model, tokenizer):\n",
        "    print(\"Sāciet tērzēšanu ar modeli (ierakstiet 'q', lai izietu):\")\n",
        "\n",
        "    while True:\n",
        "        input_text = input(\"You: \")\n",
        "\n",
        "        if input_text.lower() == 'q':\n",
        "            break\n",
        "\n",
        "        response = generate_text(model, tokenizer, input_text)\n",
        "        print(\"Bot:\", response)\n",
        "\n",
        "if CHAT:\n",
        "    chat_with_model(model, tokenizer)"
      ],
      "metadata": {
        "id": "Pb45i6tMdpwb",
        "colab": {
          "base_uri": "https://localhost:8080/"
        },
        "outputId": "d9d3e39c-edda-49d3-87c0-4b602fc35284"
      },
      "execution_count": 10,
      "outputs": [
        {
          "name": "stdout",
          "output_type": "stream",
          "text": [
            "Sāciet tērzēšanu ar modeli (ierakstiet 'q', lai izietu):\n",
            "You: Talk about your favorite food.\n",
            "Bot: Talk about your favorite food. Discuss the benefits of reading.\n",
            "You: Talk about your favorite food.\n",
            "Bot: Talk about your favorite food. Describe a popular food destination.\n",
            "You: Talk about your favorite food.\n",
            "Bot: Talk about your favorite food.\n",
            "You: Talk about your favorite food.\n",
            "Bot: Talk about your favorite food.\n",
            "You: Talk about your favorite food.\n",
            "Bot: Talk about your favorite food.\n",
            "You: Talk about your favorite food.\n",
            "Bot: Talk about your favorite food. Describe a popular breakfast.\n",
            "You: Talk about your favorite food.\n",
            "Bot: Talk about your favorite food.\n",
            "You: You can't talk about fruits.\n",
            "Bot: You can't talk about fruits. Talk about your favorite food.\n",
            "You: You can't talk about fruits.\n",
            "Bot: You can't talk about fruits. Describe a healthy breakfast.\n",
            "You: You can't talk about fruits.\n",
            "Bot: You can't talk about fruits. Talk about healthy lifestyle choices.\"\n",
            "You: You can't talk about fruits.\n",
            "Bot: You can't talk about fruits. Talk about your favorite food.\n",
            "You: A popular movie is 'The Pursuit of Happyness' which is an inspiring story about persistence and success.\n",
            "Bot: A popular movie is 'The Pursuit of Happyness' which is an inspiring story about persistence and success.\n",
            "You: A popular movie is 'The Pursuit of Happyness' which is an inspiring story about persistence and success.\n",
            "Bot: A popular movie is 'The Pursuit of Happyness' which is an inspiring story about persistence and success.\n",
            "You: A popular movie is 'The Pursuit of Happyness' which is an inspiring story about persistence and success.\n",
            "Bot: A popular movie is 'The Pursuit of Happyness' which is an inspiring story about persistence and success.\n",
            "You: A popular movie is 'The Pursuit of Happyness' which is an inspiring story about persistence and success.\n",
            "Bot: A popular movie is 'The Pursuit of Happyness' which is an inspiring story about persistence and success.\n",
            "You: q\n"
          ]
        }
      ]
    },
    {
      "cell_type": "markdown",
      "source": [
        "# Apmācīta modeļa saglabāšana"
      ],
      "metadata": {
        "id": "elgrVcValnK6"
      }
    },
    {
      "cell_type": "code",
      "source": [
        "if TRAIN:\n",
        "    model_weights = 'modelis.pth'\n",
        "    torch.save(model.state_dict(), model_weights)"
      ],
      "metadata": {
        "id": "hby7YW95lpnL"
      },
      "execution_count": 11,
      "outputs": []
    },
    {
      "cell_type": "markdown",
      "source": [
        "# Neapmācīta modeļa analīze\n",
        "\n"
      ],
      "metadata": {
        "id": "i1vjoQ6Kl02i"
      }
    },
    {
      "cell_type": "code",
      "source": [
        "if FINE_TUNED:\n",
        "    !wget model_link\n",
        "\n",
        "    # Ielādējam saglabātos svarus\n",
        "    model.load_state_dict(torch.load(model_weight_file))\n",
        "\n",
        "    # Pārbaudām CUDA pieejamību un uzstādām modeli uz atbilstošās ierīces\n",
        "    model.to(torch.device(\"cuda\" if torch.cuda.is_available() else \"cpu\"))\n",
        "\n",
        "    # Ieslēdzam validācijas režīmu\n",
        "    trainer.evaluate(val_dataset)\n",
        "    plot_metrics_history(metrics_history)"
      ],
      "metadata": {
        "id": "xQzYtLuMl42i"
      },
      "execution_count": 13,
      "outputs": []
    }
  ],
  "metadata": {
    "colab": {
      "provenance": [],
      "gpuType": "T4",
      "collapsed_sections": [
        "9Bt7HD0skeyZ",
        "BOrjb0UYXZsz",
        "eirsvXFakQcV",
        "Qzy9BxyZxkqT"
      ],
      "include_colab_link": true
    },
    "kernelspec": {
      "display_name": "Python 3",
      "name": "python3"
    },
    "language_info": {
      "name": "python"
    },
    "accelerator": "GPU"
  },
  "nbformat": 4,
  "nbformat_minor": 0
}