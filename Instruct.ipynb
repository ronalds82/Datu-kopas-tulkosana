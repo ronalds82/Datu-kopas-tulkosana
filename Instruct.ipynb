{
  "cells": [
    {
      "cell_type": "markdown",
      "metadata": {
        "id": "view-in-github",
        "colab_type": "text"
      },
      "source": [
        "<a href=\"https://colab.research.google.com/github/ronalds82/Datu-kopas-tulkosana/blob/main/Instruct.ipynb\" target=\"_parent\"><img src=\"https://colab.research.google.com/assets/colab-badge.svg\" alt=\"Open In Colab\"/></a>"
      ]
    },
    {
      "cell_type": "markdown",
      "metadata": {
        "id": "BDb3P--Qm0Fn"
      },
      "source": [
        "Autors: *Ronalds Turnis, rt20018*\n",
        "===========================\n"
      ]
    },
    {
      "cell_type": "markdown",
      "source": [
        "# Globālie mainīgie"
      ],
      "metadata": {
        "id": "AEDGkRgwVNkV"
      }
    },
    {
      "cell_type": "code",
      "source": [
        "INSTALL = False # True, ja videi ir nepieciešamas papildus instalācijas\n",
        "TRAIN = True  # True, ja modelim ir nepieciešama satura regulēšana\n",
        "FINE_TUNED = False # True, ja testējam pašu saglabātu modeli\n",
        "\n",
        "weights_dir = './weights' # Tiek glabāti modeļa svari\n",
        "logs_dir = './logs' # Tiek glabāta notikumu informācija\n",
        "tmp_dir = './tmp_trainer' # Glabājās pagaidu informācija\n",
        "\n",
        "# Jānorāda, ja vēlamies veikt pašu saglabāta modeļa novērtēšanu\n",
        "model_link = 'https://www.dropbox.com/scl/fi/cguiqykr0jlp1yj6mi7rm/modelis.pth?rlkey=m7oeyaev1pt0x1c5u2kdnl0bu&dl=0'\n",
        "model_weight_file = 'modelis.pth?rlkey=m7oeyaev1pt0x1c5u2kdnl0bu'\n",
        "\n",
        "model_name = 'openai-community/gpt2' # Modeļa izvēle\n",
        "\n",
        "data_files = {'train': 'instruct-train-LV.json', 'validation': 'instruct-validate.json'}"
      ],
      "metadata": {
        "id": "4uqoL3rjVPF3"
      },
      "execution_count": 1,
      "outputs": []
    },
    {
      "cell_type": "markdown",
      "metadata": {
        "id": "1BhXjCQDy2wU"
      },
      "source": [
        "# Moduļu importēšana"
      ]
    },
    {
      "cell_type": "code",
      "execution_count": 2,
      "metadata": {
        "id": "OePrTPIty3It"
      },
      "outputs": [],
      "source": [
        "# Ja ir nepieciešamas papildus instalācijas\n",
        "if INSTALL:\n",
        "    !pip install datasets\n",
        "    !pip install ipyfilechooser\n",
        "    !pip install transformers[torch] -U\n",
        "    !pip install accelerate -U\n",
        "\n",
        "# Importējam nepieciešamos moduļus\n",
        "import torch\n",
        "import matplotlib.pyplot as plt\n",
        "import shutil\n",
        "import os\n",
        "import json\n",
        "from transformers import Trainer, TrainingArguments, IntervalStrategy, DataCollatorWithPadding, AutoModelForSeq2SeqLM\n",
        "from transformers import AutoTokenizer, AutoModelForCausalLM, trainer_utils, BartForConditionalGeneration, BartTokenizer\n",
        "from torch.utils.data import Dataset\n",
        "from sklearn.metrics import accuracy_score, f1_score\n",
        "import torch.nn.functional as F"
      ]
    },
    {
      "cell_type": "markdown",
      "source": [
        "# Modeļa un tokenizera inicializācija"
      ],
      "metadata": {
        "id": "EaBULUuZ9oXm"
      }
    },
    {
      "cell_type": "code",
      "source": [
        "print(\"Ielādējam modeli un tokenizeru...\")\n",
        "\n",
        "tokenizer = AutoTokenizer.from_pretrained(model_name)\n",
        "model = AutoModelForCausalLM.from_pretrained(model_name)\n",
        "\n",
        "# Iestatām padding tokenu, ja tā nav\n",
        "if tokenizer.pad_token is None:\n",
        "    tokenizer.pad_token = tokenizer.eos_token\n",
        "\n",
        "# Pārbaudām CUDA pieejamību un uzstādām modeli uz atbilstošās ierīces\n",
        "device = torch.device(\"cuda\" if torch.cuda.is_available() else \"cpu\")\n",
        "model.to(device)\n",
        "\n",
        "print(\"Modelis un tokenizeris inicializēts!\")\n",
        "print(\"Izmantotā ierīce:\", device)"
      ],
      "metadata": {
        "colab": {
          "base_uri": "https://localhost:8080/"
        },
        "id": "Wd5GcD3b9qcS",
        "outputId": "c27a43ee-18f8-4164-fef5-4aa257249e09"
      },
      "execution_count": 3,
      "outputs": [
        {
          "output_type": "stream",
          "name": "stdout",
          "text": [
            "Ielādējam modeli un tokenizeru...\n"
          ]
        },
        {
          "output_type": "stream",
          "name": "stderr",
          "text": [
            "/usr/local/lib/python3.10/dist-packages/huggingface_hub/utils/_token.py:89: UserWarning: \n",
            "The secret `HF_TOKEN` does not exist in your Colab secrets.\n",
            "To authenticate with the Hugging Face Hub, create a token in your settings tab (https://huggingface.co/settings/tokens), set it as secret in your Google Colab and restart your session.\n",
            "You will be able to reuse this secret in all of your notebooks.\n",
            "Please note that authentication is recommended but still optional to access public models or datasets.\n",
            "  warnings.warn(\n"
          ]
        },
        {
          "output_type": "stream",
          "name": "stdout",
          "text": [
            "Modelis un tokenizeris inicializēts!\n",
            "Izmantotā ierīce: cuda\n"
          ]
        }
      ]
    },
    {
      "cell_type": "markdown",
      "metadata": {
        "id": "9Bt7HD0skeyZ"
      },
      "source": [
        "# Datņu ielādēšana"
      ]
    },
    {
      "cell_type": "code",
      "source": [
        "def load_data(file_name):\n",
        "    try:\n",
        "        with open(file_name, 'r', encoding='utf-8') as file:\n",
        "            data = json.load(file)\n",
        "        return data\n",
        "    except FileNotFoundError:\n",
        "        print(f\"Fails {file_name} nav atrasts!\")\n",
        "        return []\n",
        "\n",
        "train_data = load_data(data_files['train'])\n",
        "val_data = load_data(data_files['validation'])"
      ],
      "metadata": {
        "id": "4taarShiMLvL"
      },
      "execution_count": 4,
      "outputs": []
    },
    {
      "cell_type": "markdown",
      "source": [
        "# Iepriekšējo datu dzēšana"
      ],
      "metadata": {
        "id": "BOrjb0UYXZsz"
      }
    },
    {
      "cell_type": "code",
      "source": [
        "# Pārbaudām vai eksistē ģenerētās direktorijas un dzēšam tās pirms modeļa trenēšanas, lai nekonfliktētu ar vecajiem datiem\n",
        "def delete_directory(dir_path):\n",
        "    try:\n",
        "        if os.path.exists(dir_path):\n",
        "            shutil.rmtree(dir_path)\n",
        "            print(f\"Direktorija dzēsta: {dir_path}\")\n",
        "        else:\n",
        "            print(f\"Direktorija neeksistē: {dir_path}\")\n",
        "    except Exception as e:\n",
        "        print(f\"Kļūda dzēšot direktoriju: {e}\")\n",
        "\n",
        "delete_directory(weights_dir)\n",
        "delete_directory(logs_dir)\n",
        "delete_directory(tmp_dir)\n",
        "\n",
        "# Izdzēšam GPU kešatmiņu\n",
        "torch.cuda.empty_cache()"
      ],
      "metadata": {
        "colab": {
          "base_uri": "https://localhost:8080/"
        },
        "id": "DfkYYPRvXb8G",
        "outputId": "014bf589-81c2-47b6-accf-a35d1065163f"
      },
      "execution_count": 5,
      "outputs": [
        {
          "output_type": "stream",
          "name": "stdout",
          "text": [
            "Direktorija dzēsta: ./weights\n",
            "Direktorija neeksistē: ./logs\n",
            "Direktorija neeksistē: ./tmp_trainer\n"
          ]
        }
      ]
    },
    {
      "cell_type": "markdown",
      "metadata": {
        "id": "eirsvXFakQcV"
      },
      "source": [
        "# Datu inicializācija"
      ]
    },
    {
      "cell_type": "code",
      "execution_count": 6,
      "metadata": {
        "id": "DU1BJRZ_kWif",
        "colab": {
          "base_uri": "https://localhost:8080/"
        },
        "outputId": "646e85cc-3251-4352-ad9c-21f2b100e4d5"
      },
      "outputs": [
        {
          "output_type": "stream",
          "name": "stdout",
          "text": [
            "Apmācības datu kopas izmērs: 94\n",
            "Validācijas datu kopas izmērs: 34\n"
          ]
        }
      ],
      "source": [
        "class InstructDataset(Dataset):\n",
        "    def __init__(self, data_file, max_length=384):\n",
        "        with open(data_file, 'r', encoding='utf-8') as f:\n",
        "            self.data = json.load(f)\n",
        "        self.tokenizer = tokenizer\n",
        "        self.max_length = max_length\n",
        "\n",
        "    def __len__(self):\n",
        "        return len(self.data)\n",
        "\n",
        "    def __getitem__(self, idx):\n",
        "        item = self.data[idx]\n",
        "        instruction = item.get('instruction', '')\n",
        "        input_text = item.get('input', '')\n",
        "        output_text = item.get('output', '')\n",
        "        forbidden_words = item.get('forbidden_words', [])\n",
        "        is_correct = item.get('is_correct', False)\n",
        "\n",
        "        # Tokenizējam instrukciju un ievadu vienlaikus\n",
        "        inputs = self.tokenizer(\n",
        "            instruction + ' ' + input_text,\n",
        "            max_length=self.max_length,\n",
        "            padding='max_length',\n",
        "            truncation=True,\n",
        "            return_tensors='pt'\n",
        "        )\n",
        "\n",
        "        # Tokenizējam izvades tekstu\n",
        "        labels = self.tokenizer(\n",
        "            output_text,\n",
        "            max_length=self.max_length,\n",
        "            padding='max_length',\n",
        "            truncation=True,\n",
        "            return_tensors='pt'\n",
        "        )\n",
        "\n",
        "        input_ids = inputs['input_ids'].squeeze()\n",
        "        attention_mask = inputs['attention_mask'].squeeze()\n",
        "        labels = labels['input_ids'].squeeze()\n",
        "\n",
        "        # Padding tokenus aizvietojam ar -100\n",
        "        labels[labels == self.tokenizer.pad_token_id] = -100\n",
        "\n",
        "        return {\n",
        "            \"input_ids\": input_ids,\n",
        "            \"attention_mask\": attention_mask,\n",
        "            \"labels\": labels,\n",
        "            \"forbidden_words\": forbidden_words,\n",
        "            \"is_correct\": torch.tensor(is_correct, dtype=torch.float)\n",
        "        }\n",
        "\n",
        "# Definējam data collatoru\n",
        "data_collator = DataCollatorWithPadding(tokenizer=tokenizer)\n",
        "\n",
        "# Sagatavojam datu kopas\n",
        "train_dataset = InstructDataset(data_files['train'])\n",
        "val_dataset = InstructDataset(data_files['validation'])\n",
        "\n",
        "print(f\"Apmācības datu kopas izmērs: {len(train_dataset)}\")\n",
        "print(f\"Validācijas datu kopas izmērs: {len(val_dataset)}\")"
      ]
    },
    {
      "cell_type": "markdown",
      "source": [
        "# Metriku aprēķināšanas funkcijas"
      ],
      "metadata": {
        "id": "Qzy9BxyZxkqT"
      }
    },
    {
      "cell_type": "code",
      "source": [
        "# Metriku vēsture\n",
        "metrics_history = []\n",
        "\n",
        "def simple_stem(word):\n",
        "    # Galotņu saraksts\n",
        "    suffixes = [\n",
        "        's', 'š', 'a', 'am', 'u', 'ā', 'i', 'iem', 'us', 'os', 'im', 'ī',\n",
        "        'as', 'ai', 'iu', 'es', 'ei', 'ēm', 'ij', 'um', 'ū', 'ai', 'iu',\n",
        "        'ei', 'ēm', 'īm', 'ēs', 'ās', 'ies', 'ūm', 'ūs'\n",
        "    ]\n",
        "\n",
        "    for suffix in suffixes:\n",
        "        if word.endswith(suffix):\n",
        "            return word[:-len(suffix)]\n",
        "    return word\n",
        "\n",
        "# Normalizē tekstu, izmantojot stemmer funkciju\n",
        "def normalize_text(text):\n",
        "    words = text.lower().split()\n",
        "    normalized_words = [simple_stem(word) for word in words]\n",
        "    return \" \".join(normalized_words)\n",
        "\n",
        "# Skaita aizliegtos vārdus tekstā\n",
        "def count_forbidden_words(text, forbidden_words):\n",
        "    normalized_text = normalize_text(text)\n",
        "    normalized_forbidden_words = [normalize_text(word) for word in forbidden_words]\n",
        "    return any(word in normalized_text.split() for word in normalized_forbidden_words)\n",
        "\n",
        "# Aprēķina metriku\n",
        "def compute_metrics(pred: trainer_utils.EvalPrediction) -> dict:\n",
        "    predictions = pred.predictions[0] if isinstance(pred.predictions, tuple) else pred.predictions\n",
        "    label_ids = pred.label_ids\n",
        "\n",
        "    # Dekodē prognozes un anotācijas\n",
        "    decoded_predictions = tokenizer.batch_decode(predictions, skip_special_tokens=True)\n",
        "    label_ids[label_ids == -100] = tokenizer.pad_token_id\n",
        "    decoded_labels = tokenizer.batch_decode(label_ids, skip_special_tokens=True)\n",
        "\n",
        "    # Iegūst aizliegto vārdu sarakstu un pareizības informāciju no validācijas kopas\n",
        "    forbidden_words_list = [data['forbidden_words'] for data in val_dataset.data]\n",
        "    is_correct_list = [data['is_correct'] for data in val_dataset.data]\n",
        "\n",
        "    # Aprēķina aizliegto vārdu metrikas\n",
        "    forbidden_word_counts = [count_forbidden_words(text, fw) for text, fw in zip(decoded_predictions, forbidden_words_list)]\n",
        "    forbidden_word_labels = [1 if fw else 0 for fw in forbidden_word_counts]\n",
        "\n",
        "    # Pārveido aizliegto vārdu klātbūtni par bināriem rādītājiem precizitātes un F1 rādītāja aprēķināšanai\n",
        "    predicted_labels = [1 if count else 0 for count in forbidden_word_counts]\n",
        "\n",
        "    # Aprēķina precizitāti un F1 rādītāju aizliegtajiem vārdiem\n",
        "    forbidden_word_percentage = sum(predicted_labels) / len(predicted_labels) * 100\n",
        "\n",
        "    # Pievieno precizitāti, F1 rādītāju un aizliegto vārdu metrikas rezultātiem\n",
        "    metric_results = {\n",
        "        \"forbidden_word_percentage\": forbidden_word_percentage\n",
        "    }\n",
        "\n",
        "    # Saglabā metrikas vēsturi\n",
        "    metrics_history.append(metric_results)\n",
        "\n",
        "    return metric_results\n",
        "\n",
        "# Funkcija, lai izvairītos no atmiņas problēmām\n",
        "def preprocess_logits_for_metrics(logits, labels):\n",
        "    pred_ids = torch.argmax(logits[0], dim=-1)\n",
        "    return pred_ids, labels"
      ],
      "metadata": {
        "id": "sR79WpeQxmo2"
      },
      "execution_count": 7,
      "outputs": []
    },
    {
      "cell_type": "markdown",
      "metadata": {
        "id": "fOqilKGjwrKN"
      },
      "source": [
        "# Modeļa trenēšana"
      ]
    },
    {
      "cell_type": "code",
      "execution_count": 8,
      "metadata": {
        "id": "KkdpMGM1wtq5",
        "colab": {
          "base_uri": "https://localhost:8080/",
          "height": 451
        },
        "outputId": "a7a2c498-0a22-4d6c-fe8b-235da9269c55"
      },
      "outputs": [
        {
          "output_type": "display_data",
          "data": {
            "text/plain": [
              "<IPython.core.display.HTML object>"
            ],
            "text/html": [
              "\n",
              "    <div>\n",
              "      \n",
              "      <progress value='120' max='120' style='width:300px; height:20px; vertical-align: middle;'></progress>\n",
              "      [120/120 00:40, Epoch 5/5]\n",
              "    </div>\n",
              "    <table border=\"1\" class=\"dataframe\">\n",
              "  <thead>\n",
              " <tr style=\"text-align: left;\">\n",
              "      <th>Step</th>\n",
              "      <th>Training Loss</th>\n",
              "      <th>Validation Loss</th>\n",
              "      <th>Forbidden Word Percentage</th>\n",
              "    </tr>\n",
              "  </thead>\n",
              "  <tbody>\n",
              "    <tr>\n",
              "      <td>10</td>\n",
              "      <td>8.399700</td>\n",
              "      <td>7.343064</td>\n",
              "      <td>0.000000</td>\n",
              "    </tr>\n",
              "    <tr>\n",
              "      <td>20</td>\n",
              "      <td>6.720500</td>\n",
              "      <td>6.389512</td>\n",
              "      <td>0.000000</td>\n",
              "    </tr>\n",
              "    <tr>\n",
              "      <td>30</td>\n",
              "      <td>6.096000</td>\n",
              "      <td>6.143975</td>\n",
              "      <td>0.000000</td>\n",
              "    </tr>\n",
              "    <tr>\n",
              "      <td>40</td>\n",
              "      <td>5.829100</td>\n",
              "      <td>6.048105</td>\n",
              "      <td>0.000000</td>\n",
              "    </tr>\n",
              "    <tr>\n",
              "      <td>50</td>\n",
              "      <td>5.766100</td>\n",
              "      <td>6.056396</td>\n",
              "      <td>0.000000</td>\n",
              "    </tr>\n",
              "    <tr>\n",
              "      <td>60</td>\n",
              "      <td>5.464500</td>\n",
              "      <td>6.050166</td>\n",
              "      <td>0.000000</td>\n",
              "    </tr>\n",
              "    <tr>\n",
              "      <td>70</td>\n",
              "      <td>5.484800</td>\n",
              "      <td>5.979290</td>\n",
              "      <td>0.000000</td>\n",
              "    </tr>\n",
              "    <tr>\n",
              "      <td>80</td>\n",
              "      <td>5.364700</td>\n",
              "      <td>6.005744</td>\n",
              "      <td>0.000000</td>\n",
              "    </tr>\n",
              "    <tr>\n",
              "      <td>90</td>\n",
              "      <td>5.354600</td>\n",
              "      <td>6.034008</td>\n",
              "      <td>0.000000</td>\n",
              "    </tr>\n",
              "    <tr>\n",
              "      <td>100</td>\n",
              "      <td>5.306300</td>\n",
              "      <td>6.033227</td>\n",
              "      <td>0.000000</td>\n",
              "    </tr>\n",
              "    <tr>\n",
              "      <td>110</td>\n",
              "      <td>5.243100</td>\n",
              "      <td>6.032904</td>\n",
              "      <td>0.000000</td>\n",
              "    </tr>\n",
              "    <tr>\n",
              "      <td>120</td>\n",
              "      <td>5.341800</td>\n",
              "      <td>6.032871</td>\n",
              "      <td>0.000000</td>\n",
              "    </tr>\n",
              "  </tbody>\n",
              "</table><p>"
            ]
          },
          "metadata": {}
        }
      ],
      "source": [
        "def custom_loss(logits, labels, outputs, forbidden_words_list):\n",
        "    ce_loss = F.cross_entropy(logits.view(-1, logits.size(-1)), labels.view(-1), reduction='mean')\n",
        "\n",
        "    # Sodīšana par aizliegtajiem vārdiem\n",
        "    forbidden_penalty = 0\n",
        "    for output, forbidden_words in zip(outputs, forbidden_words_list):\n",
        "        if count_forbidden_words(output, forbidden_words):\n",
        "            forbidden_penalty += 1\n",
        "\n",
        "    # Apvienojam zaudējumus\n",
        "    total_loss = ce_loss + (forbidden_penalty * 0.1)\n",
        "    return total_loss\n",
        "\n",
        "class CustomTrainer(Trainer):\n",
        "    def compute_loss(self, model, inputs, return_outputs=False):\n",
        "        labels = inputs.get(\"labels\")\n",
        "        outputs = model(**inputs)\n",
        "        logits = outputs.get(\"logits\")\n",
        "\n",
        "        # Dekodējam prognozi aizliegto vārdu pārbaudei\n",
        "        decoded_outputs = tokenizer.batch_decode(logits.argmax(dim=-1), skip_special_tokens=True)\n",
        "        forbidden_words_list = inputs.get(\"forbidden_words\")\n",
        "        loss = custom_loss(logits, labels, decoded_outputs, forbidden_words_list)\n",
        "        return (loss, outputs) if return_outputs else loss\n",
        "\n",
        "def train_model(model, train_dataset, val_dataset, output_dir):\n",
        "    # Konfigurējam apmācības parametrus\n",
        "    training_args = TrainingArguments(\n",
        "        output_dir=output_dir,\n",
        "        num_train_epochs=5,\n",
        "        per_device_train_batch_size=4,\n",
        "        per_device_eval_batch_size=4,\n",
        "        eval_strategy=IntervalStrategy.STEPS,\n",
        "        eval_steps=10,\n",
        "        warmup_steps=10,\n",
        "        weight_decay=0.01,\n",
        "        learning_rate=1e-4,\n",
        "        logging_dir=logs_dir,\n",
        "        logging_steps=10,\n",
        "        save_strategy=IntervalStrategy.EPOCH,\n",
        "        report_to=\"none\",\n",
        "        fp16=True\n",
        "    )\n",
        "\n",
        "    # Inicializējam traineri\n",
        "    trainer = Trainer(\n",
        "        model=model,\n",
        "        args=training_args,\n",
        "        train_dataset=train_dataset,\n",
        "        eval_dataset=val_dataset,\n",
        "        compute_metrics=compute_metrics,\n",
        "        preprocess_logits_for_metrics=preprocess_logits_for_metrics,\n",
        "        data_collator=data_collator\n",
        "    )\n",
        "\n",
        "    # Trenējam modeli\n",
        "    trainer.train()\n",
        "    return trainer\n",
        "\n",
        "if TRAIN:\n",
        "    trainer = train_model(model, train_dataset, val_dataset, weights_dir)\n",
        "else:\n",
        "    # Inicializējam traineri validācijas dēļ\n",
        "    trainer = Trainer(\n",
        "        model=model,\n",
        "        eval_dataset=val_dataset,\n",
        "        compute_metrics=compute_metrics,\n",
        "        preprocess_logits_for_metrics=preprocess_logits_for_metrics,\n",
        "        data_collator=data_collator\n",
        "    )"
      ]
    },
    {
      "cell_type": "markdown",
      "source": [
        "# Apmācīta modeļa analīze"
      ],
      "metadata": {
        "id": "7XOyWNkL96iG"
      }
    },
    {
      "cell_type": "code",
      "source": [
        "def plot_results(training_history):\n",
        "    # Definējam sarakstus uzskaitei\n",
        "    steps = []\n",
        "    training_losses = []\n",
        "    validation_losses = []\n",
        "\n",
        "    # Ejam cauri katram ierakstam vēsturē\n",
        "    for entry in training_history:\n",
        "        if 'loss' in entry:  # Apmācības zaudējums\n",
        "            steps.append(entry.get('step', len(steps) + 1))\n",
        "            training_losses.append(entry['loss'])\n",
        "\n",
        "        if 'eval_loss' in entry:  # Validācijas zaudējums\n",
        "            validation_losses.append(entry['eval_loss'])\n",
        "\n",
        "    # Izveidojam grafiku\n",
        "    plt.figure(figsize=(12, 6))\n",
        "\n",
        "    if training_losses:\n",
        "        plt.plot(steps[:len(training_losses)], training_losses, label='Apmācības zaudējums', marker='o')\n",
        "\n",
        "    if validation_losses:\n",
        "        validation_steps = steps[:len(validation_losses)]\n",
        "        plt.plot(validation_steps, validation_losses, label='Validācijas zaudējums', marker='x', linestyle='--')\n",
        "\n",
        "    plt.xlabel('Soļu skaits')\n",
        "    plt.ylabel('Zaudējums')\n",
        "    plt.title('Apmācības un validācijas zaudējums apmācības laikā')\n",
        "    plt.legend()\n",
        "    plt.grid(True)\n",
        "    plt.show()\n",
        "\n",
        "def plot_metrics_history(metrics_history):\n",
        "    epochs = list(range(1, len(metrics_history)+1))\n",
        "    plt.figure(figsize=(12, 8))\n",
        "\n",
        "    # Sagatavojam datus parādīšanai grafikā\n",
        "    forbidden_word_percentages = [x['forbidden_word_percentage'] for x in metrics_history]\n",
        "\n",
        "    # Plot accuracy and F1 scores\n",
        "    plt.plot(epochs, forbidden_word_percentages, label='Aizliegto vārdu procentuālā attiecība', marker='o')\n",
        "\n",
        "    plt.xlabel('Iterācija')\n",
        "    plt.ylabel('Rezultāts')\n",
        "    plt.title('Vērtēšanas metriku rezultāti atkarībā no iterācijas')\n",
        "    plt.legend()\n",
        "    plt.grid(True)\n",
        "    plt.show()\n",
        "\n",
        "# Izpildām tikai, ja ir notikusi modeļa pielāgošana, citādi tas tiks darīts \"Saglabātā modeļa izmantošana\" sadaļā\n",
        "if TRAIN:\n",
        "    plot_results(trainer.state.log_history)\n",
        "    print()\n",
        "    plot_metrics_history(metrics_history)"
      ],
      "metadata": {
        "id": "FC_4BSQz-AbX",
        "colab": {
          "base_uri": "https://localhost:8080/",
          "height": 1000
        },
        "outputId": "cdfc4bb1-c0ee-4e09-ece1-c16561e0b6c4"
      },
      "execution_count": 9,
      "outputs": [
        {
          "output_type": "display_data",
          "data": {
            "text/plain": [
              "<Figure size 1200x600 with 1 Axes>"
            ],
            "image/png": "[encoded data removed]"
          },
          "metadata": {}
        },
        {
          "output_type": "stream",
          "name": "stdout",
          "text": [
            "\n"
          ]
        },
        {
          "output_type": "display_data",
          "data": {
            "text/plain": [
              "<Figure size 1200x800 with 1 Axes>"
            ],
            "image/png": "[encoded data removed]"
          },
          "metadata": {}
        }
      ]
    },
    {
      "cell_type": "markdown",
      "source": [
        "# Apmācīta modeļa saglabāšana"
      ],
      "metadata": {
        "id": "elgrVcValnK6"
      }
    },
    {
      "cell_type": "code",
      "source": [
        "if TRAIN:\n",
        "    model_weights = 'modelis.pth'\n",
        "    torch.save(model.state_dict(), model_weights)"
      ],
      "metadata": {
        "id": "hby7YW95lpnL"
      },
      "execution_count": 10,
      "outputs": []
    },
    {
      "cell_type": "markdown",
      "source": [
        "# Neapmācīta modeļa analīze\n",
        "\n"
      ],
      "metadata": {
        "id": "i1vjoQ6Kl02i"
      }
    },
    {
      "cell_type": "code",
      "source": [
        "if FINE_TUNED:\n",
        "    !wget model_link\n",
        "\n",
        "    # Ielādējam saglabātos svarus\n",
        "    model.load_state_dict(torch.load(model_weight_file))\n",
        "\n",
        "    # Pārbaudām CUDA pieejamību un uzstādām modeli uz atbilstošās ierīces\n",
        "    model.to(torch.device(\"cuda\" if torch.cuda.is_available() else \"cpu\"))\n",
        "\n",
        "    trainer.evaluate(val_dataset)\n",
        "    plot_metrics_history(metrics_history)\n",
        "\n",
        "if TRAIN == False:\n",
        "    # Ieslēdzam validācijas režīmu\n",
        "    trainer.evaluate(val_dataset)\n",
        "    plot_metrics_history(metrics_history)"
      ],
      "metadata": {
        "id": "xQzYtLuMl42i"
      },
      "execution_count": 11,
      "outputs": []
    }
  ],
  "metadata": {
    "colab": {
      "provenance": [],
      "gpuType": "T4",
      "collapsed_sections": [
        "9Bt7HD0skeyZ",
        "BOrjb0UYXZsz",
        "eirsvXFakQcV"
      ],
      "include_colab_link": true
    },
    "kernelspec": {
      "display_name": "Python 3",
      "name": "python3"
    },
    "language_info": {
      "name": "python"
    },
    "accelerator": "GPU"
  },
  "nbformat": 4,
  "nbformat_minor": 0
}